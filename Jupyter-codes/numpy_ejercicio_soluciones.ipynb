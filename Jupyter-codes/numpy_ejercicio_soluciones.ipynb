{
 "cells": [
  {
   "cell_type": "markdown",
   "id": "ec397ea8",
   "metadata": {},
   "source": [
    "# Ejercicio 1\n",
    "* Dados dos vectores A y B, calcular su producto escalar"
   ]
  },
  {
   "cell_type": "code",
   "execution_count": null,
   "id": "46085185",
   "metadata": {},
   "outputs": [],
   "source": [
    "import numpy as np\n",
    "import time\n",
    "\n",
    "N = 10_000\n",
    "timing = {}\n",
    "rng = np.random.default_rng(seed=42)\n",
    "\n",
    "A = rng.random((N))\n",
    "B = rng.random((N))\n",
    "\n",
    "t1 = time.time()\n",
    "dot_product = 0\n",
    "for i in range(N):\n",
    "    dot_product += A[i] * B[i]\n",
    "t2 = time.time()\n",
    "loop = t2-t1\n",
    "timing['loop'] = loop\n",
    "print(\"Elapsed \", t2-t1)"
   ]
  },
  {
   "cell_type": "code",
   "execution_count": null,
   "id": "0a2f7c9c",
   "metadata": {},
   "outputs": [],
   "source": [
    "t1 = time.time()\n",
    "\n",
    "dot_product = np.dot(A, B)\n",
    "\n",
    "t2 = time.time()\n",
    "\n",
    "numpy = t2-t1\n",
    "\n",
    "timing['numpy'] = numpy\n",
    "print(\"Elapsed \", t2-t1)"
   ]
  },
  {
   "cell_type": "code",
   "execution_count": null,
   "id": "37986396",
   "metadata": {},
   "outputs": [],
   "source": [
    "%matplotlib inline\n",
    "import matplotlib.pyplot as plt\n",
    "plt.figure(figsize=(10,6))\n",
    "plt.title(\"Measure acceleration of looping versus Numpy dot_prodcut [Lower is better]\",fontsize=12)\n",
    "plt.ylabel(\"Time in seconds\",fontsize=12)\n",
    "plt.xlabel(\"Various types of operations\",fontsize=14)\n",
    "plt.grid(True)\n",
    "plt.bar(x = list(timing.keys()), height= list(timing.values()), align='center',tick_label=list(timing.keys()))"
   ]
  },
  {
   "cell_type": "markdown",
   "id": "04193f58",
   "metadata": {},
   "source": [
    "# Ejercicio 2\n",
    "* Dada una matriz 10x10, cuya primera fila corresponde con los números 1, 2, 3.... y la primera columna contiene la secuancia 1, 2, 3, 4....\n",
    "    1. Calcule la tabla de multiplicar de cada coordenada\n",
    "    2. Aquel resultado que es **múltiplos de 12** y **todos los múltiplos de 9** permanecerá en la tabla\n",
    "    3. En caso contrario su valor se volverá a cero\n",
    "\n",
    "La matriz contendrá el siguiente contenido:\n",
    "```\n",
    "array([[ 1,  2,  3,  4,  5,  6,  7,  8,  9, 10],\n",
    "       [ 2,  0,  0,  0,  0, 12,  0,  0, 18,  0],\n",
    "       [ 3,  0,  9, 12,  0, 18,  0, 24, 27,  0],\n",
    "       [ 4,  0, 12,  0,  0, 24,  0,  0, 36,  0],\n",
    "       [ 5,  0,  0,  0,  0,  0,  0,  0, 45,  0],\n",
    "       [ 6, 12, 18, 24,  0, 36,  0, 48, 54, 60],\n",
    "       [ 7,  0,  0,  0,  0,  0,  0,  0, 63,  0],\n",
    "       [ 8,  0, 24,  0,  0, 48,  0,  0, 72,  0],\n",
    "       [ 9, 18, 27, 36, 45, 54, 63, 72, 81, 90],\n",
    "       [10,  0,  0,  0,  0, 60,  0,  0, 90,  0]])\n",
    "```\n",
    "\n",
    "* **Ayuda**: La operación ```np.where( MultiplicationTable == 24``` devuelve los índices cuyo valor es equivalente a 24"
   ]
  },
  {
   "cell_type": "code",
   "execution_count": 4,
   "id": "572180fa",
   "metadata": {},
   "outputs": [
    {
     "data": {
      "text/plain": [
       "array([[  1,   2,   3,   4,   5,   6,   7,   8,   9,  10],\n",
       "       [  2,   4,   6,   8,  10,  12,  14,  16,  18,  20],\n",
       "       [  3,   6,   9,  12,  15,  18,  21,  24,  27,  30],\n",
       "       [  4,   8,  12,  16,  20,  24,  28,  32,  36,  40],\n",
       "       [  5,  10,  15,  20,  25,  30,  35,  40,  45,  50],\n",
       "       [  6,  12,  18,  24,  30,  36,  42,  48,  54,  60],\n",
       "       [  7,  14,  21,  28,  35,  42,  49,  56,  63,  70],\n",
       "       [  8,  16,  24,  32,  40,  48,  56,  64,  72,  80],\n",
       "       [  9,  18,  27,  36,  45,  54,  63,  72,  81,  90],\n",
       "       [ 10,  20,  30,  40,  50,  60,  70,  80,  90, 100]])"
      ]
     },
     "execution_count": 4,
     "metadata": {},
     "output_type": "execute_result"
    }
   ],
   "source": [
    "import numpy as np\n",
    "N = 10\n",
    "numLine = np.arange(1, N+1).reshape(N,1)\n",
    "MultiplicationTable = numLine * numLine.T\n",
    "MultiplicationTable\n"
   ]
  },
  {
   "cell_type": "code",
   "execution_count": 6,
   "id": "27bf934d",
   "metadata": {},
   "outputs": [
    {
     "data": {
      "text/plain": [
       "array([[ 1,  2,  3,  4,  5,  6,  7,  8,  9, 10],\n",
       "       [ 2,  0,  0,  0,  0, 12,  0,  0, 18,  0],\n",
       "       [ 3,  0,  9, 12,  0, 18,  0, 24, 27,  0],\n",
       "       [ 4,  0, 12,  0,  0, 24,  0,  0, 36,  0],\n",
       "       [ 5,  0,  0,  0,  0,  0,  0,  0, 45,  0],\n",
       "       [ 6, 12, 18, 24,  0, 36,  0, 48, 54, 60],\n",
       "       [ 7,  0,  0,  0,  0,  0,  0,  0, 63,  0],\n",
       "       [ 8,  0, 24,  0,  0, 48,  0,  0, 72,  0],\n",
       "       [ 9, 18, 27, 36, 45, 54, 63, 72, 81, 90],\n",
       "       [10,  0,  0,  0,  0, 60,  0,  0, 90,  0]])"
      ]
     },
     "execution_count": 6,
     "metadata": {},
     "output_type": "execute_result"
    }
   ],
   "source": [
    "res = 0\n",
    "res = np.where((MultiplicationTable%12 == 0) | (MultiplicationTable%9 == 0), MultiplicationTable, 0)\n",
    "res[0,:] = MultiplicationTable[0,:]\n",
    "res[:,0] = MultiplicationTable[:,0]\n",
    "res"
   ]
  },
  {
   "cell_type": "markdown",
   "id": "f4aae7b6",
   "metadata": {},
   "source": [
    "# Ejercicio 3\n",
    "* En finanzas matemáticas, la ecuación de Black-Scholes es una ecuación diferencial parcial (PDE) que rige la evolución del precio de una opción europea de compra o venta europea según el modelo de [Black-Scholes](https://en.wikipedia.org/wiki/Black%E2%80%93Scholes_equation)\n",
    "\n",
    "* Una fórmula de negociación de opciones financieras utilizada para el precio de inversión estimados\n",
    "* La fórmula calcula el precio de las opciones europeas 'put' y 'call'"
   ]
  },
  {
   "cell_type": "markdown",
   "id": "713e736f",
   "metadata": {},
   "source": [
    "###  Version bucle\n",
    "* La función *black_scholes* se implementa con un bucle que calcula las opciones 'put' y 'call'\n",
    "* Sustituir dicha tipología en forma de bucle por llamadas a la librería **NumPy** para acelerar dicha función"
   ]
  },
  {
   "cell_type": "code",
   "execution_count": null,
   "id": "cc582f2a",
   "metadata": {},
   "outputs": [],
   "source": [
    "import numpy.random as rnd\n",
    "\n",
    "# make xrange available in python 3\n",
    "try:\n",
    "    xrange\n",
    "except NameError:\n",
    "    xrange = range\n",
    "\n",
    "SEED = 7777777\n",
    "S0L = 10.0\n",
    "S0H = 50.0\n",
    "XL = 10.0\n",
    "XH = 50.0\n",
    "TL = 1.0\n",
    "TH = 2.0\n",
    "RISK_FREE = 0.1\n",
    "VOLATILITY = 0.2\n",
    "TEST_ARRAY_LENGTH = 1024\n",
    "\n",
    "###############################################\n",
    "\n",
    "def gen_data(nopt):\n",
    "    return (\n",
    "        rnd.uniform(S0L, S0H, nopt),\n",
    "        rnd.uniform(XL, XH, nopt),\n",
    "        rnd.uniform(TL, TH, nopt),\n",
    "        )\n",
    "\n",
    "from math import log, sqrt, exp, erf\n",
    "import numpy as np\n",
    "invsqrt = lambda x: 1.0/sqrt(x)\n",
    "\n",
    "def black_scholes ( nopt, price, strike, t, rate, vol, call, put ):\n",
    "    mr = -rate\n",
    "    sig_sig_two = vol * vol * 2\n",
    "\n",
    "    for i in range(nopt):\n",
    "        P = float( price [i] )\n",
    "        S = strike [i]\n",
    "        T = t [i]\n",
    "\n",
    "        a = log(P / S)\n",
    "        b = T * mr\n",
    "\n",
    "        z = T * sig_sig_two\n",
    "        c = 0.25 * z\n",
    "        y = invsqrt(z)\n",
    "\n",
    "        w1 = (a - b + c) * y\n",
    "        w2 = (a - b - c) * y\n",
    "\n",
    "        d1 = 0.5 + 0.5 * erf(w1)\n",
    "        d2 = 0.5 + 0.5 * erf(w2)\n",
    "\n",
    "        Se = exp(b) * S\n",
    "\n",
    "        call [i] = P * d1 - Se * d2\n",
    "        put [i] = call [i] - P + Se\n"
   ]
  },
  {
   "cell_type": "code",
   "execution_count": null,
   "id": "16eda9e1",
   "metadata": {},
   "outputs": [],
   "source": [
    "import time\n",
    "\n",
    "timing = {}\n",
    "\n",
    "nopt=1_000_000\n",
    "\n",
    "price, strike, t = gen_data(nopt)\n",
    "call = [0.0 for i in range(nopt)]\n",
    "put = [-1.0 for i in range(nopt)]\n",
    "price=list(price)\n",
    "strike=list(strike)\n",
    "t=list(t)\n",
    "\n",
    "\n",
    "t1=time.time()\n",
    "black_scholes(nopt, price, strike, t, RISK_FREE, VOLATILITY, call, put)\n",
    "t2 = time.time()\n",
    "print(\"With for loop and appending it took {} seconds\".format(t2-t1))\n",
    "timing['loop'] = (t2-t1)\n"
   ]
  },
  {
   "cell_type": "markdown",
   "id": "5f5881a0",
   "metadata": {},
   "source": [
    "###  Version NumPy\n",
    "* Implementar la función *black_scholes_numpy* que calcule las opciones 'put' y 'call' pero utilizando notación numpy para acelerar el \n",
    "* La invocación de la función **erf** se realizar haciendo uso de la función [scipy.special.erf](https://docs.scipy.org/doc/scipy/reference/generated/scipy.special.erf.html) que tiene soporte de datos array de numpy"
   ]
  },
  {
   "cell_type": "code",
   "execution_count": null,
   "id": "78d7055a",
   "metadata": {},
   "outputs": [],
   "source": [
    "import scipy as sc\n",
    "\n",
    "\n",
    "def black_scholes_numpy ( nopt, price, strike, t, rate, vol, call, put ):\n",
    "    mr = -rate\n",
    "    sig_sig_two = vol * vol * 2\n",
    "\n",
    "    P = price\n",
    "    S = strike\n",
    "    T = t\n",
    "\n",
    "    a = np.log(P / S)\n",
    "    b = T * mr\n",
    "\n",
    "    z = T * sig_sig_two\n",
    "    c = 0.25 * z\n",
    "    y = np.divide(1, np.sqrt(z))\n",
    "\n",
    "    w1 = np.multiply(a - b + c,  y)\n",
    "    w2 = np.multiply(a - b - c, y)\n",
    "\n",
    "    d1 = 0.5 + 0.5 * sc.special.erf(w1)\n",
    "    d2 = 0.5 + 0.5 * sc.special.erf(w2)\n",
    "\n",
    "    Se = np.exp(b) * S\n",
    "    \n",
    "    call = P * d1 - Se * d2\n",
    "    put = call - P + Se\n",
    "   \n"
   ]
  },
  {
   "cell_type": "code",
   "execution_count": null,
   "id": "fde22556",
   "metadata": {},
   "outputs": [],
   "source": [
    "t1=time.time()\n",
    "black_scholes_numpy(nopt, np.array(price), np.array(strike), np.array(t), RISK_FREE, VOLATILITY, call, put)\n",
    "t2 = time.time()\n",
    "print(\"With for Numpy it took {} seconds\".format(t2-t1))\n",
    "timing['numpy'] = (t2-t1)\n",
    "print(\"SpeedUp gain: \", timing['loop']/timing['numpy'])\n"
   ]
  }
 ],
 "metadata": {
  "kernelspec": {
   "display_name": "Python 3 (ipykernel)",
   "language": "python",
   "name": "python3"
  },
  "language_info": {
   "codemirror_mode": {
    "name": "ipython",
    "version": 3
   },
   "file_extension": ".py",
   "mimetype": "text/x-python",
   "name": "python",
   "nbconvert_exporter": "python",
   "pygments_lexer": "ipython3",
   "version": "3.9.16"
  }
 },
 "nbformat": 4,
 "nbformat_minor": 5
}
