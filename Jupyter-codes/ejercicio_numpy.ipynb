{
 "cells": [
  {
   "cell_type": "markdown",
   "id": "f2381a72",
   "metadata": {},
   "source": [
    "# Ejercicio\n",
    "* En finanzas matemáticas, la ecuación de Black-Scholes es una ecuación diferencial parcial (PDE) que rige la evolución del precio de una opción europea de compra o venta europea según el modelo de [Black-Scholes](https://en.wikipedia.org/wiki/Black%E2%80%93Scholes_equation)\n",
    "\n",
    "* Una fórmula de negociación de opciones financieras utilizada para el precio de inversión estimados\n",
    "* La fórmula calcula el precio de las opciones europeas 'put' y 'call'"
   ]
  },
  {
   "cell_type": "markdown",
   "id": "d8cf2f7e",
   "metadata": {},
   "source": [
    "###  Version bucle\n",
    "* La función *black_scholes* se implementa con un bucle que calcula las opciones 'put' y 'call'\n",
    "* Sustituir dicha tipología en forma de bucle por llamadas a la librería **NumPy** para acelerar dicha función"
   ]
  },
  {
   "cell_type": "code",
   "execution_count": 7,
   "id": "463f907e",
   "metadata": {},
   "outputs": [],
   "source": [
    "import numpy.random as rnd\n",
    "\n",
    "# make xrange available in python 3\n",
    "try:\n",
    "    xrange\n",
    "except NameError:\n",
    "    xrange = range\n",
    "\n",
    "SEED = 7777777\n",
    "S0L = 10.0\n",
    "S0H = 50.0\n",
    "XL = 10.0\n",
    "XH = 50.0\n",
    "TL = 1.0\n",
    "TH = 2.0\n",
    "RISK_FREE = 0.1\n",
    "VOLATILITY = 0.2\n",
    "TEST_ARRAY_LENGTH = 1024\n",
    "\n",
    "###############################################\n",
    "\n",
    "def gen_data(nopt):\n",
    "    return (\n",
    "        rnd.uniform(S0L, S0H, nopt),\n",
    "        rnd.uniform(XL, XH, nopt),\n",
    "        rnd.uniform(TL, TH, nopt),\n",
    "        )\n",
    "\n",
    "from math import log, sqrt, exp, erf\n",
    "import numpy as np\n",
    "invsqrt = lambda x: 1.0/sqrt(x)\n",
    "\n",
    "def black_scholes ( nopt, price, strike, t, rate, vol, call, put ):\n",
    "    mr = -rate\n",
    "    sig_sig_two = vol * vol * 2\n",
    "\n",
    "    for i in range(nopt):\n",
    "        P = float( price [i] )\n",
    "        S = strike [i]\n",
    "        T = t [i]\n",
    "\n",
    "        a = log(P / S)\n",
    "        b = T * mr\n",
    "\n",
    "        z = T * sig_sig_two\n",
    "        c = 0.25 * z\n",
    "        y = invsqrt(z)\n",
    "\n",
    "        w1 = (a - b + c) * y\n",
    "        w2 = (a - b - c) * y\n",
    "\n",
    "        d1 = 0.5 + 0.5 * erf(w1)\n",
    "        d2 = 0.5 + 0.5 * erf(w2)\n",
    "\n",
    "        Se = exp(b) * S\n",
    "\n",
    "        call [i] = P * d1 - Se * d2\n",
    "        put [i] = call [i] - P + Se\n",
    "\n",
    "\n",
    "        \n"
   ]
  },
  {
   "cell_type": "code",
   "execution_count": 9,
   "id": "8f351c66",
   "metadata": {},
   "outputs": [
    {
     "name": "stdout",
     "output_type": "stream",
     "text": [
      "With for loop and appending it took 2.6318583488464355 seconds\n"
     ]
    }
   ],
   "source": [
    "import time\n",
    "\n",
    "timing = {}\n",
    "\n",
    "nopt=1_000_000\n",
    "\n",
    "price, strike, t = gen_data(nopt)\n",
    "call = [0.0 for i in range(nopt)]\n",
    "put = [-1.0 for i in range(nopt)]\n",
    "price=list(price)\n",
    "strike=list(strike)\n",
    "t=list(t)\n",
    "\n",
    "\n",
    "t1=time.time()\n",
    "black_scholes(nopt, price, strike, t, RISK_FREE, VOLATILITY, call, put)\n",
    "t2 = time.time()\n",
    "print(\"With for loop and appending it took {} seconds\".format(t2-t1))\n",
    "timing['loop'] = (t2-t1)\n"
   ]
  },
  {
   "cell_type": "code",
   "execution_count": 57,
   "id": "6a48592f",
   "metadata": {},
   "outputs": [],
   "source": [
    "def my_erf(z):\n",
    "    t = 1.0 / (1.0 + 0.5 * np.abs(z))\n",
    "    # use Horner's method\n",
    "    ans = 1 - t * np.exp( -z*z -  1.26551223 +\n",
    "                            t * ( 1.00002368 +\n",
    "                            t * ( 0.37409196 + \n",
    "                            t * ( 0.09678418 + \n",
    "                            t * (-0.18628806 + \n",
    "                            t * ( 0.27886807 + \n",
    "                            t * (-1.13520398 + \n",
    "                            t * ( 1.48851587 + \n",
    "                            t * (-0.82215223 + \n",
    "                            t * ( 0.17087277))))))))))\n",
    "    if z >= 0.0:\n",
    "        return ans\n",
    "    else:\n",
    "        return -ans\n",
    "\n",
    "def black_scholes_numpy ( nopt, price, strike, t, rate, vol, call, put ):\n",
    "    mr = -rate\n",
    "    sig_sig_two = vol * vol * 2\n",
    "\n",
    "    P = price\n",
    "    S = strike\n",
    "    T = t\n",
    "\n",
    "    a = np.log(P / S)\n",
    "    b = T * mr\n",
    "\n",
    "    z = T * sig_sig_two\n",
    "    c = 0.25 * z\n",
    "    y = np.divide(1, np.sqrt(z))\n",
    "\n",
    "    w1 = np.multiply(a - b + c,  y)\n",
    "    w2 = np.multiply(a - b - c, y)\n",
    "\n",
    "    d1 = 0.5 + 0.5 * my_erf(w1)\n",
    "    d2 = 0.5 + 0.5 * my_erf(w2)\n",
    "\n",
    "    Se = np.exp(b) * S\n",
    "\n",
    "    call[:] = P * d1 - Se * d2\n",
    "    put[:] = call - P + Se"
   ]
  },
  {
   "cell_type": "code",
   "execution_count": 58,
   "id": "ddd786aa",
   "metadata": {},
   "outputs": [
    {
     "ename": "ValueError",
     "evalue": "The truth value of an array with more than one element is ambiguous. Use a.any() or a.all()",
     "output_type": "error",
     "traceback": [
      "\u001b[0;31m---------------------------------------------------------------------------\u001b[0m",
      "\u001b[0;31mValueError\u001b[0m                                Traceback (most recent call last)",
      "Cell \u001b[0;32mIn[58], line 2\u001b[0m\n\u001b[1;32m      1\u001b[0m t1\u001b[38;5;241m=\u001b[39mtime\u001b[38;5;241m.\u001b[39mtime()\n\u001b[0;32m----> 2\u001b[0m \u001b[43mblack_scholes_numpy\u001b[49m\u001b[43m(\u001b[49m\u001b[43mnopt\u001b[49m\u001b[43m,\u001b[49m\u001b[43m \u001b[49m\u001b[43mnp\u001b[49m\u001b[38;5;241;43m.\u001b[39;49m\u001b[43marray\u001b[49m\u001b[43m(\u001b[49m\u001b[43mprice\u001b[49m\u001b[43m)\u001b[49m\u001b[43m,\u001b[49m\u001b[43m \u001b[49m\u001b[43mnp\u001b[49m\u001b[38;5;241;43m.\u001b[39;49m\u001b[43marray\u001b[49m\u001b[43m(\u001b[49m\u001b[43mstrike\u001b[49m\u001b[43m)\u001b[49m\u001b[43m,\u001b[49m\u001b[43m \u001b[49m\u001b[43mnp\u001b[49m\u001b[38;5;241;43m.\u001b[39;49m\u001b[43marray\u001b[49m\u001b[43m(\u001b[49m\u001b[43mt\u001b[49m\u001b[43m)\u001b[49m\u001b[43m,\u001b[49m\u001b[43m \u001b[49m\u001b[43mRISK_FREE\u001b[49m\u001b[43m,\u001b[49m\u001b[43m \u001b[49m\u001b[43mVOLATILITY\u001b[49m\u001b[43m,\u001b[49m\u001b[43m \u001b[49m\u001b[43mcall\u001b[49m\u001b[43m,\u001b[49m\u001b[43m \u001b[49m\u001b[43mput\u001b[49m\u001b[43m)\u001b[49m\n\u001b[1;32m      3\u001b[0m t2 \u001b[38;5;241m=\u001b[39m time\u001b[38;5;241m.\u001b[39mtime()\n\u001b[1;32m      4\u001b[0m \u001b[38;5;28mprint\u001b[39m(\u001b[38;5;124m\"\u001b[39m\u001b[38;5;124mWith for Numpy it took \u001b[39m\u001b[38;5;132;01m{}\u001b[39;00m\u001b[38;5;124m seconds\u001b[39m\u001b[38;5;124m\"\u001b[39m\u001b[38;5;241m.\u001b[39mformat(t2\u001b[38;5;241m-\u001b[39mt1))\n",
      "Cell \u001b[0;32mIn[57], line 37\u001b[0m, in \u001b[0;36mblack_scholes_numpy\u001b[0;34m(nopt, price, strike, t, rate, vol, call, put)\u001b[0m\n\u001b[1;32m     34\u001b[0m w1 \u001b[38;5;241m=\u001b[39m np\u001b[38;5;241m.\u001b[39mmultiply(a \u001b[38;5;241m-\u001b[39m b \u001b[38;5;241m+\u001b[39m c,  y)\n\u001b[1;32m     35\u001b[0m w2 \u001b[38;5;241m=\u001b[39m np\u001b[38;5;241m.\u001b[39mmultiply(a \u001b[38;5;241m-\u001b[39m b \u001b[38;5;241m-\u001b[39m c, y)\n\u001b[0;32m---> 37\u001b[0m d1 \u001b[38;5;241m=\u001b[39m \u001b[38;5;241m0.5\u001b[39m \u001b[38;5;241m+\u001b[39m \u001b[38;5;241m0.5\u001b[39m \u001b[38;5;241m*\u001b[39m \u001b[43mmy_erf\u001b[49m\u001b[43m(\u001b[49m\u001b[43mw1\u001b[49m\u001b[43m)\u001b[49m\n\u001b[1;32m     38\u001b[0m d2 \u001b[38;5;241m=\u001b[39m \u001b[38;5;241m0.5\u001b[39m \u001b[38;5;241m+\u001b[39m \u001b[38;5;241m0.5\u001b[39m \u001b[38;5;241m*\u001b[39m my_erf(w2)\n\u001b[1;32m     40\u001b[0m Se \u001b[38;5;241m=\u001b[39m np\u001b[38;5;241m.\u001b[39mexp(b) \u001b[38;5;241m*\u001b[39m S\n",
      "Cell \u001b[0;32mIn[57], line 14\u001b[0m, in \u001b[0;36mmy_erf\u001b[0;34m(z)\u001b[0m\n\u001b[1;32m      3\u001b[0m \u001b[38;5;66;03m# use Horner's method\u001b[39;00m\n\u001b[1;32m      4\u001b[0m ans \u001b[38;5;241m=\u001b[39m \u001b[38;5;241m1\u001b[39m \u001b[38;5;241m-\u001b[39m t \u001b[38;5;241m*\u001b[39m np\u001b[38;5;241m.\u001b[39mexp( \u001b[38;5;241m-\u001b[39mz\u001b[38;5;241m*\u001b[39mz \u001b[38;5;241m-\u001b[39m  \u001b[38;5;241m1.26551223\u001b[39m \u001b[38;5;241m+\u001b[39m\n\u001b[1;32m      5\u001b[0m                         t \u001b[38;5;241m*\u001b[39m ( \u001b[38;5;241m1.00002368\u001b[39m \u001b[38;5;241m+\u001b[39m\n\u001b[1;32m      6\u001b[0m                         t \u001b[38;5;241m*\u001b[39m ( \u001b[38;5;241m0.37409196\u001b[39m \u001b[38;5;241m+\u001b[39m \n\u001b[0;32m   (...)\u001b[0m\n\u001b[1;32m     12\u001b[0m                         t \u001b[38;5;241m*\u001b[39m (\u001b[38;5;241m-\u001b[39m\u001b[38;5;241m0.82215223\u001b[39m \u001b[38;5;241m+\u001b[39m \n\u001b[1;32m     13\u001b[0m                         t \u001b[38;5;241m*\u001b[39m ( \u001b[38;5;241m0.17087277\u001b[39m))))))))))\n\u001b[0;32m---> 14\u001b[0m \u001b[38;5;28;01mif\u001b[39;00m z \u001b[38;5;241m>\u001b[39m\u001b[38;5;241m=\u001b[39m \u001b[38;5;241m0.0\u001b[39m:\n\u001b[1;32m     15\u001b[0m     \u001b[38;5;28;01mreturn\u001b[39;00m ans\n\u001b[1;32m     16\u001b[0m \u001b[38;5;28;01melse\u001b[39;00m:\n",
      "\u001b[0;31mValueError\u001b[0m: The truth value of an array with more than one element is ambiguous. Use a.any() or a.all()"
     ]
    }
   ],
   "source": [
    "t1=time.time()\n",
    "black_scholes_numpy(nopt, np.array(price), np.array(strike), np.array(t), RISK_FREE, VOLATILITY, call, put)\n",
    "t2 = time.time()\n",
    "print(\"With for Numpy it took {} seconds\".format(t2-t1))\n",
    "timing['loop'] = (t2-t1)"
   ]
  },
  {
   "cell_type": "code",
   "execution_count": 54,
   "id": "58635c6c",
   "metadata": {},
   "outputs": [
    {
     "data": {
      "text/plain": [
       "0.9953222650189527"
      ]
     },
     "execution_count": 54,
     "metadata": {},
     "output_type": "execute_result"
    }
   ],
   "source": [
    "erf(2)\n"
   ]
  },
  {
   "cell_type": "code",
   "execution_count": 21,
   "id": "b4683733",
   "metadata": {},
   "outputs": [
    {
     "data": {
      "text/plain": [
       "array([1.83958489, 1.54873933, 1.57687454, ..., 1.97530414, 1.82209422,\n",
       "       1.83881122])"
      ]
     },
     "execution_count": 21,
     "metadata": {},
     "output_type": "execute_result"
    }
   ],
   "source": [
    "np.array(t)"
   ]
  },
  {
   "cell_type": "code",
   "execution_count": null,
   "id": "482c2d4f",
   "metadata": {},
   "outputs": [],
   "source": []
  }
 ],
 "metadata": {
  "kernelspec": {
   "display_name": "Python 3",
   "language": "python",
   "name": "python3"
  },
  "language_info": {
   "codemirror_mode": {
    "name": "ipython",
    "version": 3
   },
   "file_extension": ".py",
   "mimetype": "text/x-python",
   "name": "python",
   "nbconvert_exporter": "python",
   "pygments_lexer": "ipython3",
   "version": "3.8.12"
  }
 },
 "nbformat": 4,
 "nbformat_minor": 5
}
